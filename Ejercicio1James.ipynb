{
  "nbformat": 4,
  "nbformat_minor": 0,
  "metadata": {
    "colab": {
      "provenance": []
    },
    "kernelspec": {
      "name": "python3",
      "display_name": "Python 3"
    },
    "language_info": {
      "name": "python"
    }
  },
  "cells": [
    {
      "cell_type": "markdown",
      "source": [
        "#Ejercicio 1 elaborado por James Jerry Linares Jimenez"
      ],
      "metadata": {
        "id": "tX__vboHF1qd"
      }
    },
    {
      "cell_type": "code",
      "execution_count": 4,
      "metadata": {
        "id": "a06XkA4fz5Qe"
      },
      "outputs": [],
      "source": [
        "import pandas as pd\n",
        "\n",
        "linkToFile='https://github.com/CienciaDeDatosEspacial/code_and_data/raw/main/data/carbonEmi_downloaded.csv'\n",
        "carbon=pd.read_csv(linkToFile)"
      ]
    },
    {
      "cell_type": "markdown",
      "source": [
        "#Crear un DataFrame para la base de datos de carbon de CIA"
      ],
      "metadata": {
        "id": "P2YCwwCNDx2Q"
      }
    },
    {
      "cell_type": "code",
      "source": [
        "df=pd.DataFrame(carbon)"
      ],
      "metadata": {
        "id": "eBKS8snJ-Wwr"
      },
      "execution_count": 8,
      "outputs": []
    },
    {
      "cell_type": "markdown",
      "source": [
        "# Eliminar espacios en los valores de las celdas de texto"
      ],
      "metadata": {
        "id": "aynahFjQEAtq"
      }
    },
    {
      "cell_type": "code",
      "source": [
        "df = df.applymap(lambda x: x.strip() if isinstance(x, str) else x)"
      ],
      "metadata": {
        "id": "qiHdOAde_ZAq"
      },
      "execution_count": 9,
      "outputs": []
    },
    {
      "cell_type": "markdown",
      "source": [
        "# Mantener solo las columnas solicitadas: name, value, date_of_information y region"
      ],
      "metadata": {
        "id": "TxlTUeOuEklX"
      }
    },
    {
      "cell_type": "code",
      "source": [
        "df = df.drop(columns=[col for col in df.columns if col not in ['name', 'value', 'date_of_information', 'region']])"
      ],
      "metadata": {
        "id": "G6rJbnjf_cEY"
      },
      "execution_count": 10,
      "outputs": []
    },
    {
      "cell_type": "markdown",
      "source": [
        "# Método 1: drop"
      ],
      "metadata": {
        "id": "wtVGb-SME6mo"
      }
    },
    {
      "cell_type": "code",
      "source": [
        "df = df.loc[:, ['name', 'value', 'date_of_information', 'region']]\n"
      ],
      "metadata": {
        "id": "Qtw2eiDz_ejE"
      },
      "execution_count": 11,
      "outputs": []
    },
    {
      "cell_type": "markdown",
      "source": [
        "# Método 2: loc\n"
      ],
      "metadata": {
        "id": "AC2yPaA8E-tX"
      }
    },
    {
      "cell_type": "code",
      "source": [
        "df = df.iloc[:, [0, 1, 2, 3]]"
      ],
      "metadata": {
        "id": "e8s5GPlK_iIp"
      },
      "execution_count": 12,
      "outputs": []
    },
    {
      "cell_type": "markdown",
      "source": [
        "# Método 3: iloc"
      ],
      "metadata": {
        "id": "GX-oxNWhFDlT"
      }
    },
    {
      "cell_type": "code",
      "source": [
        "df = df.rename(columns={'date_of_information': 'carbon_date'})"
      ],
      "metadata": {
        "id": "amttTRu3_lgI"
      },
      "execution_count": 13,
      "outputs": []
    },
    {
      "cell_type": "markdown",
      "source": [
        "# Cambiar el nombre de la columna date_of_information a carbon_date"
      ],
      "metadata": {
        "id": "ei7p3IbTFGN7"
      }
    },
    {
      "cell_type": "code",
      "source": [
        "df.columns = df.columns.str.replace(' ', '')"
      ],
      "metadata": {
        "id": "ok62JVYy_oSo"
      },
      "execution_count": 14,
      "outputs": []
    },
    {
      "cell_type": "markdown",
      "source": [
        "# Eliminar espacios en los nombres de las columnas\n"
      ],
      "metadata": {
        "id": "_qClkUhqFJ2J"
      }
    },
    {
      "cell_type": "code",
      "source": [
        "df['value'] = df['value'].str.replace(r'[^0-9.]', '')"
      ],
      "metadata": {
        "id": "zU8yE3xH_rV-"
      },
      "execution_count": 15,
      "outputs": []
    },
    {
      "cell_type": "markdown",
      "source": [
        "# Detectar y limpiar símbolos no numéricos en los datos numéricos\n"
      ],
      "metadata": {
        "id": "BoYmVnykFMKA"
      }
    },
    {
      "cell_type": "code",
      "source": [
        "df['carbon_date'] = df['carbon_date'].str.extract(r'(\\d{4})')\n"
      ],
      "metadata": {
        "id": "QShGMl3Z_s0f"
      },
      "execution_count": 17,
      "outputs": []
    },
    {
      "cell_type": "code",
      "source": [
        "print(df)"
      ],
      "metadata": {
        "colab": {
          "base_uri": "https://localhost:8080/"
        },
        "id": "jIWIyppe_3Bw",
        "outputId": "2c0814de-bf2e-44fb-fd96-1fcbb643705b"
      },
      "execution_count": 18,
      "outputs": [
        {
          "output_type": "stream",
          "name": "stdout",
          "text": [
            "                                              name             value  \\\n",
            "0                                            China  10,773,248,000.0   \n",
            "1                                    United States   5,144,361,000.0   \n",
            "2                                            India   2,314,738,000.0   \n",
            "3                                           Russia   1,848,070,000.0   \n",
            "4                                            Japan   1,103,234,000.0   \n",
            "..                                             ...               ...   \n",
            "213                                     Antarctica          28,000.0   \n",
            "214  Saint Helena, Ascension, and Tristan da Cunha          13,000.0   \n",
            "215                                           Niue           8,000.0   \n",
            "216                       Northern Mariana Islands               0.0   \n",
            "217                                         Tuvalu               0.0   \n",
            "\n",
            "    carbon_date                   region  \n",
            "0          2019  East and Southeast Asia  \n",
            "1          2019            North America  \n",
            "2          2019               South Asia  \n",
            "3          2019             Central Asia  \n",
            "4          2019  East and Southeast Asia  \n",
            "..          ...                      ...  \n",
            "213        2019               Antarctica  \n",
            "214        2019                   Africa  \n",
            "215        2019    Australia and Oceania  \n",
            "216        2019    Australia and Oceania  \n",
            "217        2019    Australia and Oceania  \n",
            "\n",
            "[218 rows x 4 columns]\n"
          ]
        }
      ]
    }
  ]
}